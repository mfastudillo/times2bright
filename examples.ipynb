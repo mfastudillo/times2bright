{
 "cells": [
  {
   "cell_type": "markdown",
   "metadata": {},
   "source": [
    "This notebook contains examples of how to use the different functions of times2bright."
   ]
  },
  {
   "cell_type": "code",
   "execution_count": 1,
   "metadata": {},
   "outputs": [],
   "source": [
    "import brightway2 as bw\n",
    "import pandas as pd\n",
    "import seaborn as sns\n",
    "import numpy as np"
   ]
  },
  {
   "cell_type": "markdown",
   "metadata": {},
   "source": [
    "# Integrate "
   ]
  },
  {
   "cell_type": "code",
   "execution_count": 2,
   "metadata": {},
   "outputs": [],
   "source": [
    "from times2bright.integrate import *"
   ]
  },
  {
   "cell_type": "markdown",
   "metadata": {},
   "source": [
    "this module is used to adapt activities of the LCA software brightway2 (https://brightwaylca.org/). To test it we need to select an activity for an existing project. As an example, we will modify activities of the LCA database Ecoinvent 3.5."
   ]
  },
  {
   "cell_type": "code",
   "execution_count": 5,
   "metadata": {},
   "outputs": [],
   "source": [
    "bw.projects.set_current('natem_ei35')"
   ]
  },
  {
   "cell_type": "markdown",
   "metadata": {},
   "source": [
    "of the databases of this project, we use a generic version of the consequential version of ecoinvent 3.5"
   ]
  },
  {
   "cell_type": "code",
   "execution_count": 6,
   "metadata": {},
   "outputs": [],
   "source": [
    "lcadb_ei35con=bw.Database('ei_35con')"
   ]
  },
  {
   "cell_type": "markdown",
   "metadata": {},
   "source": [
    "find an activity to modify using list comprehension"
   ]
  },
  {
   "cell_type": "code",
   "execution_count": 7,
   "metadata": {
    "scrolled": true
   },
   "outputs": [
    {
     "data": {
      "text/plain": [
       "['transport, passenger car, large size, diesel, EURO 5' (kilometer, RoW, None)]"
      ]
     },
     "execution_count": 7,
     "metadata": {},
     "output_type": "execute_result"
    }
   ],
   "source": [
    "car=[act for act in lcadb_ei35con \n",
    " if 'transport' in act['name'] \n",
    " and 'passenger' in act['name']\n",
    " and 'diesel' in act['name']\n",
    " and 'EURO 5' in act['name']\n",
    " and 'large size' in act['name']\n",
    " and act['location']=='RoW'\n",
    " and act['activity type']=='ordinary transforming activity'\n",
    "]\n",
    "car"
   ]
  },
  {
   "cell_type": "markdown",
   "metadata": {},
   "source": [
    "validate that there's only one result and assign it to the variable _car_"
   ]
  },
  {
   "cell_type": "code",
   "execution_count": 8,
   "metadata": {},
   "outputs": [],
   "source": [
    "car=check_query(car)"
   ]
  },
  {
   "cell_type": "code",
   "execution_count": 9,
   "metadata": {},
   "outputs": [
    {
     "data": {
      "text/plain": [
       "'transport, passenger car, large size, diesel, EURO 5' (kilometer, RoW, None)"
      ]
     },
     "execution_count": 9,
     "metadata": {},
     "output_type": "execute_result"
    }
   ],
   "source": [
    "car"
   ]
  },
  {
   "cell_type": "markdown",
   "metadata": {},
   "source": [
    "`find_eflow` is used to identify biosphere exchanges related to fuel and biosphere emissions, it returns a list of exchanges with a name similar or equal to a given string. it has as inputs the bw activity and the name of the biosphere flow."
   ]
  },
  {
   "cell_type": "code",
   "execution_count": 11,
   "metadata": {},
   "outputs": [
    {
     "name": "stdout",
     "output_type": "stream",
     "text": [
      "1 flows with the name:\n",
      "Carbon dioxide, fossil\n"
     ]
    },
    {
     "data": {
      "text/plain": [
       "[Exchange: 0.2186945944 kilogram 'Carbon dioxide, fossil' (kilogram, None, ('air', 'urban air close to ground')) to 'transport, passenger car, large size, diesel, EURO 5' (kilometer, RoW, None)>]"
      ]
     },
     "execution_count": 11,
     "metadata": {},
     "output_type": "execute_result"
    }
   ],
   "source": [
    "find_eflow(car,'Carbon dioxide')"
   ]
  },
  {
   "cell_type": "markdown",
   "metadata": {},
   "source": [
    "`find_tflow` works very similar but for technosphere flows."
   ]
  },
  {
   "cell_type": "code",
   "execution_count": 12,
   "metadata": {},
   "outputs": [
    {
     "name": "stdout",
     "output_type": "stream",
     "text": [
      "careful 2 flows with the name:\n",
      "passenger car, diesel\n",
      "diesel, low-sulfur\n"
     ]
    },
    {
     "data": {
      "text/plain": [
       "[Exchange: 0.0133333333333333 kilogram 'market for passenger car, diesel' (kilogram, GLO, None) to 'transport, passenger car, large size, diesel, EURO 5' (kilometer, RoW, None)>,\n",
       " Exchange: 0.06964796 kilogram 'market for diesel, low-sulfur' (kilogram, RoW, None) to 'transport, passenger car, large size, diesel, EURO 5' (kilometer, RoW, None)>]"
      ]
     },
     "execution_count": 12,
     "metadata": {},
     "output_type": "execute_result"
    }
   ],
   "source": [
    "find_tflow(car,'diesel')"
   ]
  },
  {
   "cell_type": "markdown",
   "metadata": {},
   "source": [
    "Ups, by _diesel_ the function also picked up _market for passenger car, diesel_. we can use `literal==True` to specify that we want a exact name match "
   ]
  },
  {
   "cell_type": "code",
   "execution_count": 13,
   "metadata": {},
   "outputs": [
    {
     "data": {
      "text/plain": [
       "[Exchange: 0.06964796 kilogram 'market for diesel, low-sulfur' (kilogram, RoW, None) to 'transport, passenger car, large size, diesel, EURO 5' (kilometer, RoW, None)>]"
      ]
     },
     "execution_count": 13,
     "metadata": {},
     "output_type": "execute_result"
    }
   ],
   "source": [
    "find_tflow(car,'diesel, low-sulfur',literal=True)"
   ]
  },
  {
   "cell_type": "code",
   "execution_count": 14,
   "metadata": {},
   "outputs": [
    {
     "data": {
      "text/plain": [
       "'diesel, low-sulfur'"
      ]
     },
     "execution_count": 14,
     "metadata": {},
     "output_type": "execute_result"
    }
   ],
   "source": [
    "find_tflow(car,'diesel, low-sulfur',literal=True)[0]['name']"
   ]
  },
  {
   "cell_type": "markdown",
   "metadata": {},
   "source": [
    "**Determine the efficiency and its units** (the output divided by the input of fuel). This is done with the function `determine_eff`. Calculate efficiencies is useful to scale them after."
   ]
  },
  {
   "cell_type": "code",
   "execution_count": 15,
   "metadata": {},
   "outputs": [
    {
     "name": "stdout",
     "output_type": "stream",
     "text": [
      "fuel unit: kilogram\n",
      "output unit: kilometer\n"
     ]
    },
    {
     "data": {
      "text/plain": [
       "14.357922328234741"
      ]
     },
     "execution_count": 15,
     "metadata": {},
     "output_type": "execute_result"
    }
   ],
   "source": [
    "determine_eff(car,'diesel, low-sulfur')"
   ]
  },
  {
   "cell_type": "markdown",
   "metadata": {},
   "source": [
    "**Determine the emission factor** (the amount of an emission divided by the amount of fuel consumed). This can be done with `determine_ef`"
   ]
  },
  {
   "cell_type": "code",
   "execution_count": 16,
   "metadata": {},
   "outputs": [
    {
     "name": "stdout",
     "output_type": "stream",
     "text": [
      "1 flows with the name:\n",
      "Carbon dioxide, fossil\n",
      "fuel unit: {'kilogram'}\n",
      "output unit: {'kilogram'}\n"
     ]
    },
    {
     "data": {
      "text/plain": [
       "3.14"
      ]
     },
     "execution_count": 16,
     "metadata": {},
     "output_type": "execute_result"
    }
   ],
   "source": [
    "determine_ef(car,'diesel, low-sulfur','Carbon dioxide')"
   ]
  },
  {
   "cell_type": "markdown",
   "metadata": {},
   "source": [
    "These functions are smart enough to calculate the efficiency correctly even if there are several entries of the same fuel (e.g. fuel diesel coming from global markets and some for reginal markets). This characteristic can be found on ecoinvent datasets, particularly in datasets representing the `rest of the world`"
   ]
  },
  {
   "cell_type": "markdown",
   "metadata": {},
   "source": [
    "lets calculate the CO2eq emissions"
   ]
  },
  {
   "cell_type": "code",
   "execution_count": 17,
   "metadata": {},
   "outputs": [],
   "source": [
    "ipcc2013=('IPCC 2013', 'climate change', 'GWP 100a')"
   ]
  },
  {
   "cell_type": "code",
   "execution_count": 18,
   "metadata": {},
   "outputs": [],
   "source": [
    "lca_car=bw.LCA({car:1},ipcc2013)"
   ]
  },
  {
   "cell_type": "code",
   "execution_count": 19,
   "metadata": {
    "scrolled": true
   },
   "outputs": [
    {
     "data": {
      "text/plain": [
       "0.37618541081170376"
      ]
     },
     "execution_count": 19,
     "metadata": {},
     "output_type": "execute_result"
    }
   ],
   "source": [
    "lca_car.lci()\n",
    "lca_car.lcia()\n",
    "lca_car.score"
   ]
  },
  {
   "cell_type": "markdown",
   "metadata": {},
   "source": [
    "-----\n"
   ]
  },
  {
   "cell_type": "markdown",
   "metadata": {},
   "source": [
    "### Activity modifications\n",
    "\n",
    "now we are going to introduce some modifications to the activity, because I don't want to modify the database, I create a copy of the activity to be later erased."
   ]
  },
  {
   "cell_type": "code",
   "execution_count": 20,
   "metadata": {},
   "outputs": [],
   "source": [
    "car_modified=car.copy()"
   ]
  },
  {
   "cell_type": "markdown",
   "metadata": {},
   "source": [
    "**Change fuel type**"
   ]
  },
  {
   "cell_type": "markdown",
   "metadata": {},
   "source": [
    "lets change the fuel type, it could be diesel from a regional market. or even a totally different fuel.\n",
    "\n",
    "lets try to put petrol on my diesel car"
   ]
  },
  {
   "cell_type": "code",
   "execution_count": 21,
   "metadata": {},
   "outputs": [
    {
     "data": {
      "text/plain": [
       "['market for petrol, low-sulfur' (kilogram, RoW, None)]"
      ]
     },
     "execution_count": 21,
     "metadata": {},
     "output_type": "execute_result"
    }
   ],
   "source": [
    "petrol_market=[act for act in lcadb_ei35con \n",
    " if 'petrol, low-sulfur' in act['name'] \n",
    " and act['location']=='RoW'\n",
    " and act['activity type']!='ordinary transforming activity'\n",
    "]\n",
    "petrol_market"
   ]
  },
  {
   "cell_type": "code",
   "execution_count": 22,
   "metadata": {},
   "outputs": [
    {
     "data": {
      "text/plain": [
       "'market for petrol, low-sulfur' (kilogram, RoW, None)"
      ]
     },
     "execution_count": 22,
     "metadata": {},
     "output_type": "execute_result"
    }
   ],
   "source": [
    "petrol_market=check_query(petrol_market)\n",
    "petrol_market"
   ]
  },
  {
   "cell_type": "code",
   "execution_count": 23,
   "metadata": {},
   "outputs": [
    {
     "name": "stdout",
     "output_type": "stream",
     "text": [
      "warning, substituting activity does not produce same product\n",
      "diesel, low-sulfur\n",
      "petrol, low-sulfur\n"
     ]
    }
   ],
   "source": [
    "car_modified=change_origin_tflow(car_modified, # activity\n",
    "                                 'diesel, low-sulfur', # existing fuel\n",
    "                                 petrol_market # new fuel\n",
    "                                )"
   ]
  },
  {
   "cell_type": "markdown",
   "metadata": {},
   "source": [
    "ok, it lets me do it but it provides a warning, good to know!"
   ]
  },
  {
   "cell_type": "code",
   "execution_count": 24,
   "metadata": {},
   "outputs": [],
   "source": [
    "lca_carmodified=bw.LCA({car_modified:1},ipcc2013)"
   ]
  },
  {
   "cell_type": "code",
   "execution_count": 25,
   "metadata": {},
   "outputs": [
    {
     "data": {
      "text/plain": [
       "0.40412295913681456"
      ]
     },
     "execution_count": 25,
     "metadata": {},
     "output_type": "execute_result"
    }
   ],
   "source": [
    "lca_carmodified.lci()\n",
    "lca_carmodified.lcia()\n",
    "lca_carmodified.score"
   ]
  },
  {
   "cell_type": "markdown",
   "metadata": {},
   "source": [
    "We can see that the life cycle impact of the modified car is different now. It seems that per kg producing petrol has higher emissions. The software does not know that you will break the car if you put petrol on a diesel car :).\n",
    "\n",
    "Now the activity has a new field _harmonisation_, a dict storing changes done the the activity."
   ]
  },
  {
   "cell_type": "code",
   "execution_count": 26,
   "metadata": {},
   "outputs": [
    {
     "data": {
      "text/plain": [
       "{'tflow_origin': True}"
      ]
     },
     "execution_count": 26,
     "metadata": {},
     "output_type": "execute_result"
    }
   ],
   "source": [
    "car_modified['harmonisation']"
   ]
  },
  {
   "cell_type": "markdown",
   "metadata": {},
   "source": [
    "**Change the amount of a technosphere flow (e.g. fuel use)**"
   ]
  },
  {
   "cell_type": "code",
   "execution_count": 27,
   "metadata": {},
   "outputs": [
    {
     "name": "stdout",
     "output_type": "stream",
     "text": [
      "fuel unit: kilogram\n",
      "output unit: kilometer\n"
     ]
    }
   ],
   "source": [
    "old_eff=determine_eff(car_modified,'petrol')"
   ]
  },
  {
   "cell_type": "code",
   "execution_count": 28,
   "metadata": {},
   "outputs": [
    {
     "data": {
      "text/plain": [
       "14.357922328234741"
      ]
     },
     "execution_count": 28,
     "metadata": {},
     "output_type": "execute_result"
    }
   ],
   "source": [
    "old_eff"
   ]
  },
  {
   "cell_type": "code",
   "execution_count": 29,
   "metadata": {},
   "outputs": [],
   "source": [
    "car_modified=scale_technosphere_flow(car_modified,\n",
    "                                     'petrol, low-sulfur',\n",
    "                                     0.5)"
   ]
  },
  {
   "cell_type": "code",
   "execution_count": 30,
   "metadata": {
    "scrolled": true
   },
   "outputs": [
    {
     "name": "stdout",
     "output_type": "stream",
     "text": [
      "fuel unit: kilogram\n",
      "output unit: kilometer\n"
     ]
    },
    {
     "data": {
      "text/plain": [
       "28.715844656469482"
      ]
     },
     "execution_count": 30,
     "metadata": {},
     "output_type": "execute_result"
    }
   ],
   "source": [
    "determine_eff(car_modified,'petrol')"
   ]
  },
  {
   "cell_type": "markdown",
   "metadata": {},
   "source": [
    "now it runs the double of km with the same amount of fuel"
   ]
  },
  {
   "cell_type": "code",
   "execution_count": 31,
   "metadata": {
    "scrolled": true
   },
   "outputs": [
    {
     "name": "stdout",
     "output_type": "stream",
     "text": [
      "1 flows with the name:\n",
      "Carbon dioxide, fossil\n",
      "fuel unit: {'kilogram'}\n",
      "output unit: {'kilogram'}\n"
     ]
    },
    {
     "data": {
      "text/plain": [
       "6.28"
      ]
     },
     "execution_count": 31,
     "metadata": {},
     "output_type": "execute_result"
    }
   ],
   "source": [
    "determine_ef(car_modified,'petrol','Carbon dioxide')"
   ]
  },
  {
   "cell_type": "markdown",
   "metadata": {},
   "source": [
    "The amount of CO2 emissions per unit of fuel is not double. It makes sense, we have halved the fuel consumption without touching the emissions."
   ]
  },
  {
   "cell_type": "markdown",
   "metadata": {},
   "source": [
    "now we would need to use `scale_biosphere_flow` to adjust the CO2 emissions (and all emissions related to combustion). \n",
    "this can be more simply done using `scale_fuel_cons`"
   ]
  },
  {
   "cell_type": "code",
   "execution_count": 32,
   "metadata": {},
   "outputs": [],
   "source": [
    "car_modified.delete()"
   ]
  },
  {
   "cell_type": "markdown",
   "metadata": {},
   "source": [
    "### Change fuel consumption (and associated emissions)"
   ]
  },
  {
   "cell_type": "markdown",
   "metadata": {},
   "source": [
    "we go back to the diesel car."
   ]
  },
  {
   "cell_type": "code",
   "execution_count": 33,
   "metadata": {},
   "outputs": [],
   "source": [
    "car_modified=car.copy()"
   ]
  },
  {
   "cell_type": "code",
   "execution_count": 34,
   "metadata": {},
   "outputs": [],
   "source": [
    "car_modified=scale_fuel_cons(car_modified,'diesel, low-sulfur',0.5)"
   ]
  },
  {
   "cell_type": "code",
   "execution_count": 35,
   "metadata": {},
   "outputs": [],
   "source": [
    "lca_carmodified=bw.LCA({car_modified:1},ipcc2013)"
   ]
  },
  {
   "cell_type": "code",
   "execution_count": 36,
   "metadata": {},
   "outputs": [
    {
     "data": {
      "text/plain": [
       "0.24017666452524555"
      ]
     },
     "execution_count": 36,
     "metadata": {},
     "output_type": "execute_result"
    }
   ],
   "source": [
    "lca_carmodified.lci()\n",
    "lca_carmodified.lcia()\n",
    "lca_carmodified.score"
   ]
  },
  {
   "cell_type": "code",
   "execution_count": 37,
   "metadata": {},
   "outputs": [
    {
     "data": {
      "text/plain": [
       "'Doubling efficiency reduces GHG by 63.85%'"
      ]
     },
     "execution_count": 37,
     "metadata": {},
     "output_type": "execute_result"
    }
   ],
   "source": [
    "f'Doubling efficiency reduces GHG by {lca_carmodified.score/lca_car.score:.2%}'"
   ]
  },
  {
   "cell_type": "markdown",
   "metadata": {},
   "source": [
    "it is normal that we reduce less than 50% the life-cycle impact, as other impacts such as the impact of car manufacturing are not affected."
   ]
  },
  {
   "cell_type": "code",
   "execution_count": 38,
   "metadata": {},
   "outputs": [
    {
     "name": "stdout",
     "output_type": "stream",
     "text": [
      "1 flows with the name:\n",
      "Carbon dioxide, fossil\n",
      "fuel unit: {'kilogram'}\n",
      "output unit: {'kilogram'}\n"
     ]
    },
    {
     "data": {
      "text/plain": [
       "3.14"
      ]
     },
     "execution_count": 38,
     "metadata": {},
     "output_type": "execute_result"
    }
   ],
   "source": [
    "determine_ef(car_modified,'diesel, low-sulfur','Carbon dioxide')"
   ]
  },
  {
   "cell_type": "markdown",
   "metadata": {},
   "source": [
    "when the fuel consumption is adjusted the emission factor (emissions per unit of fuel) remain the same. This function scales all the emissions to air, assuming they are related to the fuel consumption."
   ]
  },
  {
   "cell_type": "code",
   "execution_count": 39,
   "metadata": {
    "scrolled": true
   },
   "outputs": [
    {
     "name": "stdout",
     "output_type": "stream",
     "text": [
      "fuel unit: kilogram\n",
      "output unit: kilometer\n"
     ]
    },
    {
     "data": {
      "text/plain": [
       "28.715844656469482"
      ]
     },
     "execution_count": 39,
     "metadata": {},
     "output_type": "execute_result"
    }
   ],
   "source": [
    "determine_eff(car_modified,'diesel, low-sulfur')"
   ]
  },
  {
   "cell_type": "code",
   "execution_count": 40,
   "metadata": {},
   "outputs": [],
   "source": [
    "car_modified.delete()"
   ]
  },
  {
   "cell_type": "markdown",
   "metadata": {},
   "source": [
    "the efficiency is in effect double the value of the initial proxy."
   ]
  },
  {
   "cell_type": "markdown",
   "metadata": {},
   "source": [
    "# analyse \n",
    "in this module we have some functions to analyse LCA results."
   ]
  },
  {
   "cell_type": "code",
   "execution_count": 42,
   "metadata": {},
   "outputs": [],
   "source": [
    "from times2bright.analyse import *"
   ]
  },
  {
   "cell_type": "markdown",
   "metadata": {},
   "source": [
    "going back to our original diesel car. Usually what we get is the score of the impact of total impact of the activity. "
   ]
  },
  {
   "cell_type": "code",
   "execution_count": 43,
   "metadata": {},
   "outputs": [
    {
     "data": {
      "text/plain": [
       "0.37618541081170376"
      ]
     },
     "execution_count": 43,
     "metadata": {},
     "output_type": "execute_result"
    }
   ],
   "source": [
    "lca_car.score"
   ]
  },
  {
   "cell_type": "markdown",
   "metadata": {},
   "source": [
    "Knowing a bit of the computational structure of LCA, we can calculate the impact of the emissions of a activity, excluding the impact of all the activities associated to it. In the case of a car, this would mean all the impacts of the emissions associated to the operation, but none related to other _technosphere flows_"
   ]
  },
  {
   "cell_type": "code",
   "execution_count": 44,
   "metadata": {},
   "outputs": [
    {
     "data": {
      "text/plain": [
       "0.2199322965450635"
      ]
     },
     "execution_count": 44,
     "metadata": {},
     "output_type": "execute_result"
    }
   ],
   "source": [
    "direct_impact(lca_car)"
   ]
  },
  {
   "cell_type": "code",
   "execution_count": 45,
   "metadata": {},
   "outputs": [
    {
     "data": {
      "text/plain": [
       "'percentange of CO2 from operation: 58.46%'"
      ]
     },
     "execution_count": 45,
     "metadata": {},
     "output_type": "execute_result"
    }
   ],
   "source": [
    "f'percentange of CO2 from operation: {direct_impact(lca_car)/lca_car.score:.2%}'"
   ]
  },
  {
   "cell_type": "markdown",
   "metadata": {},
   "source": [
    "We can see that around 58% of the impact of the car is associated with the emissions of operating the car. One has to be careful with these calculations, and know how the datasets are structured. For example market datasets will have very little _direct_ impact, because it will have a lot of technosphere inputs, but very little or none emissions associated."
   ]
  },
  {
   "cell_type": "markdown",
   "metadata": {},
   "source": [
    "### find isic code"
   ]
  },
  {
   "cell_type": "markdown",
   "metadata": {},
   "source": [
    "this is a very simple function, just because the isic code is not very easy to parse the way datasets are structured"
   ]
  },
  {
   "cell_type": "code",
   "execution_count": 46,
   "metadata": {
    "scrolled": true
   },
   "outputs": [
    {
     "data": {
      "text/plain": [
       "[('ISIC rev.4 ecoinvent', '4922:Other passenger land transport')]"
      ]
     },
     "execution_count": 46,
     "metadata": {},
     "output_type": "execute_result"
    }
   ],
   "source": [
    "car['classifications']"
   ]
  },
  {
   "cell_type": "code",
   "execution_count": 47,
   "metadata": {},
   "outputs": [
    {
     "data": {
      "text/plain": [
       "('4922', 'Other passenger land transport')"
      ]
     },
     "execution_count": 47,
     "metadata": {},
     "output_type": "execute_result"
    }
   ],
   "source": [
    "find_isic(car)"
   ]
  },
  {
   "cell_type": "markdown",
   "metadata": {},
   "source": [
    "separating the number and the description, we can later analyse the division associated with the isic (the first two digits) more easily."
   ]
  },
  {
   "cell_type": "markdown",
   "metadata": {},
   "source": [
    "## preprotimes"
   ]
  },
  {
   "cell_type": "markdown",
   "metadata": {},
   "source": [
    "These functions are used to preprocess outputs from the TIMES model given by the shell `VEDA-BE`."
   ]
  },
  {
   "cell_type": "code",
   "execution_count": null,
   "metadata": {},
   "outputs": [],
   "source": []
  }
 ],
 "metadata": {
  "kernelspec": {
   "display_name": "Python 3",
   "language": "python",
   "name": "python3"
  },
  "language_info": {
   "codemirror_mode": {
    "name": "ipython",
    "version": 3
   },
   "file_extension": ".py",
   "mimetype": "text/x-python",
   "name": "python",
   "nbconvert_exporter": "python",
   "pygments_lexer": "ipython3",
   "version": "3.7.4"
  }
 },
 "nbformat": 4,
 "nbformat_minor": 4
}
